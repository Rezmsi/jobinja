{
 "cells": [
  {
   "cell_type": "code",
   "execution_count": 1,
   "id": "5c739977-d1b3-45ee-b31a-c398d492c557",
   "metadata": {},
   "outputs": [],
   "source": [
    "from bs4 import BeautifulSoup\n",
    "import requests\n",
    "import re\n",
    "import json\n",
    "import time\n",
    "from kafka import KafkaProducer"
   ]
  },
  {
   "cell_type": "code",
   "execution_count": 2,
   "id": "d20703f4",
   "metadata": {},
   "outputs": [],
   "source": [
    "TOPIC_Step1_NAME=\"raw_datas\"\n",
    "KAFKA_SERVER=\"broker:9092\""
   ]
  },
  {
   "cell_type": "code",
   "execution_count": 3,
   "id": "038e0082-1284-4924-893f-933d2bc56efb",
   "metadata": {},
   "outputs": [],
   "source": [
    "url = 'https://jobinja.ir/jobs?&filters%5Bjob_categories%5D%5B0%5D=IT%20%2F%20DevOps%20%2F%20Server&filters%5Bjob_categories%5D%5B1%5D=%D9%88%D8%A8%D8%8C%E2%80%8C%20%D8%A8%D8%B1%D9%86%D8%A7%D9%85%D9%87%E2%80%8C%D9%86%D9%88%DB%8C%D8%B3%DB%8C%20%D9%88%20%D9%86%D8%B1%D9%85%E2%80%8C%D8%A7%D9%81%D8%B2%D8%A7%D8%B1&filters%5Bkeywords%5D%5B0%5D=&page={page}&preferred_before=1696439018&sort_by=published_at_desc' \n",
    "\n",
    "producer = KafkaProducer(bootstrap_servers=KAFKA_SERVER,  value_serializer=lambda m: json.dumps(m).encode('utf-8') )\n",
    "delay = 3   \n",
    "x=0\n",
    "brake = False"
   ]
  },
  {
   "cell_type": "code",
   "execution_count": 4,
   "id": "9aed2f02",
   "metadata": {},
   "outputs": [],
   "source": [
    "day_actions = {\n",
    "    '(امروز)': True,\n",
    "    '(۱ روز پیش)': True,\n",
    "#     '(۲ روز پیش)': True,\n",
    "#     '(۳ روز پیش)': True,\n",
    "#     '(۴ روز پیش)': True,\n",
    "#     '(۵ روز پیش)': True,\n",
    "#     '(۶ روز پیش)': True,\n",
    "#     '(۷ روز پیش)': True\n",
    "}\n"
   ]
  },
  {
   "cell_type": "code",
   "execution_count": null,
   "id": "39b62e2b-4a40-4bf9-bf7d-695144b1b66b",
   "metadata": {},
   "outputs": [],
   "source": [
    "while x<=200 and not brake:\n",
    "    x+=1\n",
    "    \n",
    "    main_url = url.format(page=x)\n",
    "    time.sleep(delay)\n",
    "    res = requests.get(main_url)\n",
    "#    time.sleep(delay)\n",
    "    soup = BeautifulSoup(res.content, 'html.parser')\n",
    "\n",
    "    items = soup.find_all('div', {'class': 'o-listView__itemWrap c-jobListView__itemWrap u-clearFix'})\n",
    "\n",
    "    for item in items:\n",
    "        item_title = item.find('a',{'class': 'c-jobListView__titleLink'}).text\n",
    "        item_url = item.find('a',{'class': 'c-jobListView__titleLink'})['href']\n",
    "        passed_day = item.find('span' , {'class':'c-jobListView__passedDays'}).text.strip()\n",
    "\n",
    "\n",
    "        if passed_day in day_actions:\n",
    "\n",
    "            cart = {\n",
    "            'item-title':item_title,\n",
    "            'item_url' : item_url,\n",
    "            'passed_day' : passed_day\n",
    "            }\n",
    "            \n",
    "            print(cart)\n",
    "            producer.send(TOPIC_Step1_NAME, cart)\n",
    "            \n",
    "        else:\n",
    "            brake = True\n",
    "            break;"
   ]
  },
  {
   "cell_type": "code",
   "execution_count": null,
   "id": "cd22401f-fa29-4c81-b652-7cf76a170ca6",
   "metadata": {},
   "outputs": [],
   "source": [
    "producer.flush()"
   ]
  },
  {
   "cell_type": "code",
   "execution_count": null,
   "id": "4604d8c5-2520-4b36-8b5f-6afe2cc11acc",
   "metadata": {},
   "outputs": [],
   "source": []
  }
 ],
 "metadata": {
  "kernelspec": {
   "display_name": "Python 3 (ipykernel)",
   "language": "python",
   "name": "python3"
  },
  "language_info": {
   "codemirror_mode": {
    "name": "ipython",
    "version": 3
   },
   "file_extension": ".py",
   "mimetype": "text/x-python",
   "name": "python",
   "nbconvert_exporter": "python",
   "pygments_lexer": "ipython3",
   "version": "3.7.3"
  }
 },
 "nbformat": 4,
 "nbformat_minor": 5
}
