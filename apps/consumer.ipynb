{
 "cells": [
  {
   "cell_type": "code",
   "execution_count": null,
   "id": "79dd653f-1871-468a-909e-811250eda81a",
   "metadata": {},
   "outputs": [],
   "source": [
    "import time\n",
    "import requests\n",
    "import re\n",
    "from pprint import pformat\n",
    "import json \n",
    "from kafka import KafkaConsumer, KafkaProducer\n",
    "\n",
    "consumer = KafkaConsumer(\n",
    "   'jobs_info', \n",
    "   bootstrap_servers='broker:9092',\n",
    "   value_deserializer=lambda m: json.loads(m.decode('utf-8'))\n",
    ")\n",
    "\n",
    "\n",
    "for message in consumer:\n",
    "    # Message value is already de-serialized\n",
    "    message = message.value\n",
    "    print(message)"
   ]
  },
  {
   "cell_type": "code",
   "execution_count": null,
   "id": "3e7dd78f-4559-443c-8d5b-9c4d322d6cc7",
   "metadata": {},
   "outputs": [],
   "source": []
  }
 ],
 "metadata": {
  "kernelspec": {
   "display_name": "Python 3 (ipykernel)",
   "language": "python",
   "name": "python3"
  },
  "language_info": {
   "codemirror_mode": {
    "name": "ipython",
    "version": 3
   },
   "file_extension": ".py",
   "mimetype": "text/x-python",
   "name": "python",
   "nbconvert_exporter": "python",
   "pygments_lexer": "ipython3",
   "version": "3.9.13"
  }
 },
 "nbformat": 4,
 "nbformat_minor": 5
}
